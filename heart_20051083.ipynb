{
 "cells": [
  {
   "cell_type": "markdown",
   "metadata": {
    "id": "MzvtiBOpTQUC"
   },
   "source": [
    "# ***Training Data to Predict Heart Failure***"
   ]
  },
  {
   "cell_type": "code",
   "execution_count": 1,
   "metadata": {
    "id": "GEDKcMeJ_VL0"
   },
   "outputs": [],
   "source": [
    "#Importing all relevant libraries\n",
    "import pandas as pd\n",
    "import numpy as np\n",
    "import seaborn as sns\n",
    "import matplotlib.pyplot as plt\n",
    "from tensorflow import keras\n",
    "from tensorflow.keras import layers\n",
    "from sklearn.model_selection import train_test_split\n",
    "from sklearn.linear_model import LogisticRegression\n",
    "from sklearn.metrics import accuracy_score\n",
    "from sklearn.preprocessing import StandardScaler\n",
    "from sklearn.feature_selection import mutual_info_regression\n",
    "from sklearn.pipeline import Pipeline\n",
    "from sklearn.model_selection import cross_val_score\n",
    "from sklearn.neighbors import KNeighborsClassifier\n",
    "import os\n",
    "\n",
    "# used to make graph appear below cell in notebook.\n",
    "%matplotlib inline "
   ]
  },
  {
   "cell_type": "markdown",
   "metadata": {},
   "source": [
    "## Importing Data"
   ]
  },
  {
   "cell_type": "code",
   "execution_count": 2,
   "metadata": {
    "id": "In6DqrF5_TQP",
    "tags": []
   },
   "outputs": [],
   "source": [
    "path = \"data/heart_failure_clinical_records_dataset.csv\" # Setting Data Path\n",
    "heart_failure = pd.read_csv(path) # Reading Data using Pandas"
   ]
  },
  {
   "cell_type": "code",
   "execution_count": null,
   "metadata": {
    "id": "dpPEb6gLUFMi"
   },
   "outputs": [],
   "source": []
  },
  {
   "cell_type": "markdown",
   "metadata": {
    "tags": []
   },
   "source": [
    "## LOGISTIC REGRESSION\n",
    "### Basic"
   ]
  },
  {
   "cell_type": "code",
   "execution_count": 3,
   "metadata": {
    "colab": {
     "base_uri": "https://localhost:8080/"
    },
    "id": "_pnsq928UQ-u",
    "outputId": "25e2b612-f91a-4f3e-fe49-1456fd4ab4e6"
   },
   "outputs": [
    {
     "name": "stdout",
     "output_type": "stream",
     "text": [
      "Logistic Regression Success Rate : 85.00%\n"
     ]
    }
   ],
   "source": [
    "features =  ['anaemia', 'creatinine_phosphokinase', 'diabetes', 'ejection_fraction', 'high_blood_pressure', 'platelets', 'serum_creatinine', \n",
    "             'serum_sodium', 'sex', 'smoking', 'time'] # ALL FEATURES BESIDES DEATH_EVENT\n",
    "       \n",
    "X = heart_failure[features] #Features assigned to X\n",
    "y = heart_failure[\"DEATH_EVENT\"] # Event to be predicted\n",
    "\n",
    "X_train, X_test, y_train, y_test = train_test_split(X, y, random_state=1, test_size=0.2) # Splitting data \n",
    "\n",
    "model_logReg = LogisticRegression() # Logistic Regression model\n",
    "\n",
    "model_logReg.fit(X_train, y_train) # Fitting model on Training Set\n",
    "predict_logReg = model_logReg.predict(X_test) # Predicting target based on testing data\n",
    "score_logReg = accuracy_score(y_test, predict_logReg) # Checking the accuracy by comparing prediction to actual values\n",
    "\n",
    "print(\"Logistic Regression Success Rate :\", \"{:.2f}%\".format(100*score_logReg))\n"
   ]
  },
  {
   "cell_type": "markdown",
   "metadata": {
    "tags": []
   },
   "source": [
    "## LOGISTIC REGRESSION\n",
    "### Preprocessing using Standard Scalar"
   ]
  },
  {
   "cell_type": "code",
   "execution_count": 4,
   "metadata": {
    "colab": {
     "base_uri": "https://localhost:8080/"
    },
    "id": "BUgBNpAKf4d7",
    "outputId": "e497b6b7-1950-4146-e9f9-77a7443255d4"
   },
   "outputs": [
    {
     "name": "stdout",
     "output_type": "stream",
     "text": [
      "Logistic Regression Success Rate : 86.67%\n"
     ]
    }
   ],
   "source": [
    "scaler = StandardScaler().fit(X) # Fitting the standard scalar preprocessor to standardize the data\n",
    "X_scaled = scaler.transform(X) # Assigning syandarized X data to X_scaled\n",
    "\n",
    "XS_train, XS_test, yS_train, yS_test = train_test_split(X_scaled, y, random_state=1, test_size=0.2) # Splitting train-test data post preprocessing\n",
    "\n",
    "model_logReg.fit(XS_train, yS_train) # Fitting model on Training Set\n",
    "predict_S_logReg = model_logReg.predict(XS_test) # Predicting target based on testing data\n",
    "score_S_logReg = accuracy_score(yS_test, predict_S_logReg) # Checking the accuracy by comparing prediction to actual values\n",
    "\n",
    "print(\"Logistic Regression Success Rate :\", \"{:.2f}%\".format(100*score_S_logReg))\n",
    "\n"
   ]
  },
  {
   "cell_type": "markdown",
   "metadata": {
    "tags": []
   },
   "source": [
    "## Mutual Information"
   ]
  },
  {
   "cell_type": "code",
   "execution_count": 5,
   "metadata": {
    "colab": {
     "base_uri": "https://localhost:8080/",
     "height": 299
    },
    "id": "5mbcjzeyy-zu",
    "outputId": "8c501476-8466-4a86-b8ba-a4d34866897b"
   },
   "outputs": [
    {
     "data": {
      "text/plain": [
       "Text(0.5, 1.0, 'Mutual Information Scores')"
      ]
     },
     "execution_count": 5,
     "metadata": {},
     "output_type": "execute_result"
    },
    {
     "data": {
      "image/png": "[encoded data removed]",
      "text/plain": [
       "<Figure size 432x288 with 1 Axes>"
      ]
     },
     "metadata": {
      "needs_background": "light"
     },
     "output_type": "display_data"
    }
   ],
   "source": [
    "# Finding the mutual information scores\n",
    "mi_scores = mutual_info_regression(X, y, random_state=1) # Caluclated using non standardized data\n",
    "mi_scores = pd.Series(mi_scores, name=\"MI Scores\", index=X.columns) # Converting to series\n",
    "mi_scores = mi_scores.sort_values(ascending=False) # Sorting in descending order\n",
    "\n",
    "# The part below is responsible for the graph\n",
    "mi_scores = mi_scores.sort_values(ascending=True)\n",
    "width = np.arange(len(mi_scores))\n",
    "ticks = list(mi_scores.index)\n",
    "plt.barh(width, mi_scores)\n",
    "plt.yticks(width, ticks)\n",
    "plt.title(\"Mutual Information Scores\")"
   ]
  },
  {
   "cell_type": "markdown",
   "metadata": {},
   "source": [
    "## LOGISTIC REGRESSION\n",
    "### Preprocessing using Standard Scalar & Using only top 4 Mutual Features\n"
   ]
  },
  {
   "cell_type": "code",
   "execution_count": 6,
   "metadata": {
    "colab": {
     "base_uri": "https://localhost:8080/"
    },
    "id": "AWjTQgZx1DSr",
    "outputId": "a72d67da-a4b3-4f28-fce0-ef19b9c12ba8"
   },
   "outputs": [
    {
     "name": "stdout",
     "output_type": "stream",
     "text": [
      "Logistic Regression Success Rate : 88.33%\n"
     ]
    }
   ],
   "source": [
    "features_MI =  ['ejection_fraction', 'high_blood_pressure', 'serum_creatinine', 'time'] # Taking top 4 features found using Mutual Information\n",
    "       \n",
    "X_MI = heart_failure[features_MI] # Assigning X_MI to top 4 features\n",
    "y_MI = heart_failure[\"DEATH_EVENT\"] # Assigning y_MI to target feature\n",
    "\n",
    "scalerMI = StandardScaler().fit(X_MI) # Fitting the standard scalar preprocessor to standardize the data\n",
    "XMI_scaled = scalerMI.transform(X_MI) # Assigning syandarized X data to X_scaled\n",
    "\n",
    "# Splitting train-test data post preprocessing & MI\n",
    "XSMI_train, XSMI_test, ySMI_train, ySMI_test = train_test_split(XMI_scaled, y_MI, random_state = 1, test_size=0.2) \n",
    "\n",
    "model_logReg.fit(XSMI_train, ySMI_train) # Fitting model on Training Set\n",
    "predict_logReg = model_logReg.predict(XSMI_test) # Predicting target based on testing data\n",
    "score_logReg = accuracy_score(ySMI_test, predict_logReg) # Checking the accuracy by comparing prediction to actual values\n",
    "\n",
    "print(\"Logistic Regression Success Rate :\", \"{:.2f}%\".format(100*score_logReg))"
   ]
  },
  {
   "cell_type": "markdown",
   "metadata": {},
   "source": [
    "## LOGISTIC REGRESSION\n",
    "### Preprocessing using Standard Scalar & Cross Validation\n"
   ]
  },
  {
   "cell_type": "code",
   "execution_count": 7,
   "metadata": {},
   "outputs": [
    {
     "name": "stdout",
     "output_type": "stream",
     "text": [
      "Cross Validation Success Rate : 76.23%\n"
     ]
    }
   ],
   "source": [
    "my_pipeline = Pipeline(steps=[('scaler', StandardScaler()),\n",
    "                              ('model', LogisticRegression())]) # Defining Pipeline for Standard Scalar & Logistic Regression\n",
    "\n",
    "scores = cross_val_score(my_pipeline, X_scaled, y, cv = 5) # Cross-Validation using all features\n",
    "\n",
    "print(\"Cross Validation Success Rate :\", \"{:.2f}%\".format(100*scores.mean()))\n",
    "\n",
    "                "
   ]
  },
  {
   "cell_type": "markdown",
   "metadata": {},
   "source": [
    "## LOGISTIC REGRESSION\n",
    "### Preprocessing using Standard Scalar & Using only top 4 Mutual Features & Cross Validation\n"
   ]
  },
  {
   "cell_type": "code",
   "execution_count": 8,
   "metadata": {},
   "outputs": [
    {
     "name": "stdout",
     "output_type": "stream",
     "text": [
      "Cross Validation Success Rate : 78.56%\n"
     ]
    }
   ],
   "source": [
    "my_pipeline = Pipeline(steps=[('scaler', StandardScaler()),\n",
    "                              ('model', LogisticRegression())]) # Defining Pipeline for Standard Scalar & Logistic Regression\n",
    "\n",
    "scores = cross_val_score(my_pipeline, XMI_scaled, y, cv = 5) # Cross-Validation using top 4 MI features\n",
    "\n",
    "print(\"Cross Validation Success Rate :\", \"{:.2f}%\".format(100*scores.mean()))"
   ]
  },
  {
   "cell_type": "markdown",
   "metadata": {
    "tags": []
   },
   "source": [
    "## K-Nearest Neighbours (KNN)\n",
    "### Basic"
   ]
  },
  {
   "cell_type": "code",
   "execution_count": 9,
   "metadata": {},
   "outputs": [
    {
     "name": "stdout",
     "output_type": "stream",
     "text": [
      "K-Nearest Neigbour Success Rate : 63.33%\n"
     ]
    }
   ],
   "source": [
    "model_knn = KNeighborsClassifier() # KNN model\n",
    "\n",
    "model_knn.fit(X_train, y_train) # Fitting model on Training Set\n",
    "predict_knn = model_knn.predict(X_test) # Predicting target based on testing data\n",
    "score_knn = accuracy_score(y_test, predict_knn) # Checking the accuracy by comparing prediction to actual values\n",
    "\n",
    "print(\"K-Nearest Neigbour Success Rate :\", \"{:.2f}%\".format(100*score_knn))"
   ]
  },
  {
   "cell_type": "markdown",
   "metadata": {},
   "source": [
    "## K-Nearest Neighbours (KNN)\n",
    "### Preprocessing using Standard Scalar\n"
   ]
  },
  {
   "cell_type": "code",
   "execution_count": 10,
   "metadata": {},
   "outputs": [
    {
     "name": "stdout",
     "output_type": "stream",
     "text": [
      "K-Nearest Neigbour Success Rate : 80.00%\n"
     ]
    }
   ],
   "source": [
    "model_knn = KNeighborsClassifier() # KNN model\n",
    "\n",
    "model_knn.fit(XS_train, yS_train) # Fitting model on Training Set that has been standardized\n",
    "predict_knn = model_knn.predict(XS_test) # Predicting target based on testing data\n",
    "score_knn = accuracy_score(yS_test, predict_knn) # Checking the accuracy by comparing prediction to actual values\n",
    "\n",
    "print(\"K-Nearest Neigbour Success Rate :\", \"{:.2f}%\".format(100*score_knn))"
   ]
  },
  {
   "cell_type": "markdown",
   "metadata": {},
   "source": [
    "## K-Nearest Neighbours (KNN)\n",
    "### Preprocessing using Standard Scalar & Using only top 4 Mutual Features\n"
   ]
  },
  {
   "cell_type": "code",
   "execution_count": 11,
   "metadata": {},
   "outputs": [
    {
     "name": "stdout",
     "output_type": "stream",
     "text": [
      "K-Nearest Neigbour Success Rate : 88.33%\n"
     ]
    }
   ],
   "source": [
    "model_knn = KNeighborsClassifier() # KNN model\n",
    "\n",
    "model_knn.fit(XSMI_train, ySMI_train) # Fitting model on Training Set that has been standardized and has only top 4 MI attributes\n",
    "predict_knn = model_knn.predict(XSMI_test) # Predicting target based on testing data\n",
    "score_knn = accuracy_score(ySMI_test, predict_knn) # Checking the accuracy by comparing prediction to actual values\n",
    "\n",
    "print(\"K-Nearest Neigbour Success Rate :\", \"{:.2f}%\".format(100*score_knn))"
   ]
  },
  {
   "cell_type": "markdown",
   "metadata": {
    "tags": []
   },
   "source": [
    "## K-Nearest Neighbours (KNN)\n",
    "### Preprocessing using Standard Scalar & Cross Validation\n"
   ]
  },
  {
   "cell_type": "code",
   "execution_count": 12,
   "metadata": {},
   "outputs": [
    {
     "name": "stdout",
     "output_type": "stream",
     "text": [
      "Cross Validation Success Rate : 72.90%\n"
     ]
    }
   ],
   "source": [
    "my_pipeline = Pipeline(steps=[('scaler', StandardScaler()),\n",
    "                              ('model', KNeighborsClassifier())])# Defining Pipeline for Standard Scalar & KNN\n",
    "\n",
    "scores = cross_val_score(my_pipeline, X, y, cv = 5) # Cross-Validation\n",
    "\n",
    "print(\"Cross Validation Success Rate :\", \"{:.2f}%\".format(100*scores.mean()))"
   ]
  },
  {
   "cell_type": "markdown",
   "metadata": {
    "tags": []
   },
   "source": [
    "## K-Nearest Neighbours (KNN)\n",
    "### Preprocessing using Standard Scalar & Cross Validation & Using only top 4 Mutual Features\n"
   ]
  },
  {
   "cell_type": "code",
   "execution_count": 13,
   "metadata": {},
   "outputs": [
    {
     "name": "stdout",
     "output_type": "stream",
     "text": [
      "Cross Validation Success Rate : 69.56%\n"
     ]
    }
   ],
   "source": [
    "my_pipeline = Pipeline(steps=[('scaler', StandardScaler()),\n",
    "                              ('model', KNeighborsClassifier())]) # Defining Pipeline for Standard Scalar & KNN\n",
    "\n",
    "scores = cross_val_score(my_pipeline, XMI_scaled, y, cv = 5) # Cross-Validation using top 4 MI features\n",
    "\n",
    "print(\"Cross Validation Success Rate :\", \"{:.2f}%\".format(100*scores.mean()))"
   ]
  },
  {
   "cell_type": "markdown",
   "metadata": {
    "tags": []
   },
   "source": [
    "## DEEP LEARNING\n",
    "### Using Standard Scalar Data\n"
   ]
  },
  {
   "cell_type": "code",
   "execution_count": 14,
   "metadata": {},
   "outputs": [
    {
     "name": "stdout",
     "output_type": "stream",
     "text": [
      "Epoch 1/20\n",
      "5/5 [==============================] - 3s 158ms/step - loss: 0.3859 - accuracy: 0.7071 - val_loss: 0.3380 - val_accuracy: 0.8167\n",
      "Epoch 2/20\n",
      "5/5 [==============================] - 0s 41ms/step - loss: 0.3508 - accuracy: 0.7573 - val_loss: 0.2909 - val_accuracy: 0.8500\n",
      "Epoch 3/20\n",
      "5/5 [==============================] - 0s 36ms/step - loss: 0.2820 - accuracy: 0.7782 - val_loss: 0.2568 - val_accuracy: 0.8500\n",
      "Epoch 4/20\n",
      "5/5 [==============================] - 0s 39ms/step - loss: 0.2941 - accuracy: 0.7824 - val_loss: 0.2505 - val_accuracy: 0.8667\n",
      "Epoch 5/20\n",
      "5/5 [==============================] - 0s 40ms/step - loss: 0.2588 - accuracy: 0.8326 - val_loss: 0.2330 - val_accuracy: 0.8833\n",
      "Epoch 6/20\n",
      "5/5 [==============================] - 0s 43ms/step - loss: 0.2549 - accuracy: 0.8452 - val_loss: 0.2346 - val_accuracy: 0.8500\n",
      "Epoch 7/20\n",
      "5/5 [==============================] - 0s 50ms/step - loss: 0.2527 - accuracy: 0.8201 - val_loss: 0.2143 - val_accuracy: 0.8667\n",
      "Epoch 8/20\n",
      "5/5 [==============================] - 0s 45ms/step - loss: 0.2503 - accuracy: 0.8285 - val_loss: 0.2025 - val_accuracy: 0.8500\n",
      "Epoch 9/20\n",
      "5/5 [==============================] - 0s 54ms/step - loss: 0.2318 - accuracy: 0.8285 - val_loss: 0.2092 - val_accuracy: 0.8667\n",
      "Epoch 10/20\n",
      "5/5 [==============================] - 0s 45ms/step - loss: 0.2439 - accuracy: 0.8494 - val_loss: 0.2135 - val_accuracy: 0.8500\n",
      "Epoch 11/20\n",
      "5/5 [==============================] - 0s 53ms/step - loss: 0.2347 - accuracy: 0.8410 - val_loss: 0.2035 - val_accuracy: 0.8500\n",
      "Epoch 12/20\n",
      "5/5 [==============================] - 0s 52ms/step - loss: 0.2293 - accuracy: 0.8536 - val_loss: 0.2058 - val_accuracy: 0.8500\n",
      "Epoch 13/20\n",
      "5/5 [==============================] - 0s 56ms/step - loss: 0.2201 - accuracy: 0.8368 - val_loss: 0.2235 - val_accuracy: 0.8667\n",
      "Epoch 14/20\n",
      "5/5 [==============================] - 0s 58ms/step - loss: 0.2247 - accuracy: 0.8745 - val_loss: 0.2165 - val_accuracy: 0.8333\n",
      "Epoch 15/20\n",
      "5/5 [==============================] - 0s 55ms/step - loss: 0.2195 - accuracy: 0.8368 - val_loss: 0.2124 - val_accuracy: 0.8500\n",
      "Epoch 16/20\n",
      "5/5 [==============================] - 0s 54ms/step - loss: 0.2000 - accuracy: 0.8703 - val_loss: 0.2063 - val_accuracy: 0.8500\n",
      "Epoch 17/20\n",
      "5/5 [==============================] - 0s 56ms/step - loss: 0.2076 - accuracy: 0.8703 - val_loss: 0.1931 - val_accuracy: 0.8500\n",
      "Epoch 18/20\n",
      "5/5 [==============================] - 0s 58ms/step - loss: 0.1924 - accuracy: 0.8996 - val_loss: 0.1986 - val_accuracy: 0.8667\n",
      "Epoch 19/20\n",
      "5/5 [==============================] - 0s 59ms/step - loss: 0.2127 - accuracy: 0.8619 - val_loss: 0.1980 - val_accuracy: 0.8667\n",
      "Epoch 20/20\n",
      "5/5 [==============================] - 0s 60ms/step - loss: 0.1883 - accuracy: 0.8870 - val_loss: 0.1895 - val_accuracy: 0.8667\n"
     ]
    },
    {
     "data": {
      "image/png": "[encoded data removed]",
      "text/plain": [
       "<Figure size 432x288 with 1 Axes>"
      ]
     },
     "metadata": {
      "needs_background": "light"
     },
     "output_type": "display_data"
    },
    {
     "data": {
      "image/png": "[encoded data removed]",
      "text/plain": [
       "<Figure size 432x288 with 1 Axes>"
      ]
     },
     "metadata": {
      "needs_background": "light"
     },
     "output_type": "display_data"
    }
   ],
   "source": [
    "#Defining Model\n",
    "model_tf = keras.Sequential([\n",
    "    layers.Dense(512, activation='relu', input_shape=[11]), # NN layer\n",
    "    layers.Dropout(rate=0.3), #Dropout Layer\n",
    "    layers.Dense(512, activation='relu'), # NN layer\n",
    "    layers.Dropout(rate=0.3), #Dropout Layer\n",
    "    layers.Dense(512, activation='relu'), # NN layer\n",
    "    layers.Dense(1),\n",
    "])\n",
    "# Compiling the model for the following optimizer, loss function, and metrics.\n",
    "model_tf.compile(\n",
    "    optimizer='adam',\n",
    "    loss='mae',\n",
    "    metrics=[\"accuracy\"]\n",
    ")\n",
    "\n",
    "#Fitting the model\n",
    "history = model_tf.fit(\n",
    "    XS_train, yS_train, #Using Standard Scalar Data\n",
    "    validation_data=(XS_test, yS_test), #Using Standard Scalar Data\n",
    "    batch_size=50,\n",
    "    epochs=20,\n",
    ")\n",
    "\n",
    "#Creating graphs to visualize the loss and accuracy values to check for under-fitting and over-fitting \n",
    "history_df = pd.DataFrame(history.history)\n",
    "history_df.loc[:, ['loss', 'val_loss']].plot();\n",
    "history_df.loc[:, ['accuracy', 'val_accuracy']].plot();"
   ]
  },
  {
   "cell_type": "code",
   "execution_count": 38,
   "metadata": {},
   "outputs": [
    {
     "name": "stdout",
     "output_type": "stream",
     "text": [
      "Epoch 1/100\n",
      "4/4 [==============================] - 1s 81ms/step - loss: 0.4017 - accuracy: 0.6695 - val_loss: 0.2855 - val_accuracy: 0.7667\n",
      "Epoch 2/100\n",
      "4/4 [==============================] - 0s 22ms/step - loss: 0.3519 - accuracy: 0.6653 - val_loss: 0.2522 - val_accuracy: 0.7667\n",
      "Epoch 3/100\n",
      "4/4 [==============================] - 0s 27ms/step - loss: 0.3465 - accuracy: 0.6611 - val_loss: 0.2539 - val_accuracy: 0.7667\n",
      "Epoch 4/100\n",
      "4/4 [==============================] - 0s 29ms/step - loss: 0.3408 - accuracy: 0.6611 - val_loss: 0.2438 - val_accuracy: 0.7667\n",
      "Epoch 5/100\n",
      "4/4 [==============================] - 0s 25ms/step - loss: 0.3231 - accuracy: 0.6820 - val_loss: 0.2430 - val_accuracy: 0.7667\n",
      "Epoch 6/100\n",
      "4/4 [==============================] - 0s 27ms/step - loss: 0.3127 - accuracy: 0.6862 - val_loss: 0.2444 - val_accuracy: 0.7667\n",
      "Epoch 7/100\n",
      "4/4 [==============================] - 0s 27ms/step - loss: 0.2959 - accuracy: 0.7029 - val_loss: 0.2344 - val_accuracy: 0.7667\n",
      "Epoch 8/100\n",
      "4/4 [==============================] - 0s 25ms/step - loss: 0.2805 - accuracy: 0.7699 - val_loss: 0.2420 - val_accuracy: 0.8500\n",
      "Epoch 9/100\n",
      "4/4 [==============================] - 0s 25ms/step - loss: 0.2872 - accuracy: 0.7992 - val_loss: 0.2391 - val_accuracy: 0.8500\n",
      "Epoch 10/100\n",
      "4/4 [==============================] - 0s 29ms/step - loss: 0.2730 - accuracy: 0.7950 - val_loss: 0.2389 - val_accuracy: 0.8333\n",
      "Epoch 11/100\n",
      "4/4 [==============================] - 0s 25ms/step - loss: 0.2909 - accuracy: 0.7615 - val_loss: 0.2262 - val_accuracy: 0.8000\n",
      "Epoch 12/100\n",
      "4/4 [==============================] - 0s 28ms/step - loss: 0.2677 - accuracy: 0.7782 - val_loss: 0.2157 - val_accuracy: 0.8167\n",
      "Epoch 13/100\n",
      "4/4 [==============================] - 0s 28ms/step - loss: 0.2648 - accuracy: 0.7908 - val_loss: 0.2188 - val_accuracy: 0.8333\n",
      "Epoch 14/100\n",
      "4/4 [==============================] - 0s 29ms/step - loss: 0.2548 - accuracy: 0.7824 - val_loss: 0.2160 - val_accuracy: 0.8167\n",
      "Epoch 15/100\n",
      "4/4 [==============================] - 0s 28ms/step - loss: 0.2624 - accuracy: 0.7782 - val_loss: 0.2209 - val_accuracy: 0.8333\n",
      "Epoch 16/100\n",
      "4/4 [==============================] - 0s 31ms/step - loss: 0.2529 - accuracy: 0.8117 - val_loss: 0.2193 - val_accuracy: 0.8167\n",
      "Epoch 17/100\n",
      "4/4 [==============================] - 0s 25ms/step - loss: 0.2579 - accuracy: 0.7866 - val_loss: 0.2137 - val_accuracy: 0.8000\n",
      "Epoch 18/100\n",
      "4/4 [==============================] - 0s 28ms/step - loss: 0.2554 - accuracy: 0.7699 - val_loss: 0.2085 - val_accuracy: 0.8167\n",
      "Epoch 19/100\n",
      "4/4 [==============================] - 0s 29ms/step - loss: 0.2546 - accuracy: 0.7699 - val_loss: 0.2102 - val_accuracy: 0.8333\n",
      "Epoch 20/100\n",
      "4/4 [==============================] - 0s 26ms/step - loss: 0.2370 - accuracy: 0.8326 - val_loss: 0.2081 - val_accuracy: 0.8333\n",
      "Epoch 21/100\n",
      "4/4 [==============================] - 0s 28ms/step - loss: 0.2451 - accuracy: 0.8033 - val_loss: 0.2051 - val_accuracy: 0.8333\n",
      "Epoch 22/100\n",
      "4/4 [==============================] - 0s 29ms/step - loss: 0.2326 - accuracy: 0.7908 - val_loss: 0.1978 - val_accuracy: 0.8333\n",
      "Epoch 23/100\n",
      "4/4 [==============================] - 0s 26ms/step - loss: 0.2312 - accuracy: 0.8243 - val_loss: 0.1941 - val_accuracy: 0.8667\n",
      "Epoch 24/100\n",
      "4/4 [==============================] - 0s 27ms/step - loss: 0.2237 - accuracy: 0.8452 - val_loss: 0.1919 - val_accuracy: 0.8667\n",
      "Epoch 25/100\n",
      "4/4 [==============================] - 0s 26ms/step - loss: 0.2313 - accuracy: 0.8410 - val_loss: 0.1839 - val_accuracy: 0.8500\n",
      "Epoch 26/100\n",
      "4/4 [==============================] - 0s 29ms/step - loss: 0.2209 - accuracy: 0.8201 - val_loss: 0.1800 - val_accuracy: 0.8500\n",
      "Epoch 27/100\n",
      "4/4 [==============================] - 0s 26ms/step - loss: 0.2270 - accuracy: 0.7908 - val_loss: 0.1792 - val_accuracy: 0.8667\n",
      "Epoch 28/100\n",
      "4/4 [==============================] - 0s 26ms/step - loss: 0.2341 - accuracy: 0.8536 - val_loss: 0.1908 - val_accuracy: 0.8500\n",
      "Epoch 29/100\n",
      "4/4 [==============================] - 0s 26ms/step - loss: 0.2157 - accuracy: 0.8619 - val_loss: 0.1820 - val_accuracy: 0.8667\n",
      "Epoch 30/100\n",
      "4/4 [==============================] - 0s 25ms/step - loss: 0.2168 - accuracy: 0.8452 - val_loss: 0.1703 - val_accuracy: 0.8667\n",
      "Epoch 31/100\n",
      "4/4 [==============================] - 0s 27ms/step - loss: 0.1972 - accuracy: 0.8452 - val_loss: 0.1777 - val_accuracy: 0.8667\n",
      "Epoch 32/100\n",
      "4/4 [==============================] - 0s 28ms/step - loss: 0.2140 - accuracy: 0.8536 - val_loss: 0.1751 - val_accuracy: 0.8667\n",
      "Epoch 33/100\n",
      "4/4 [==============================] - 0s 23ms/step - loss: 0.2119 - accuracy: 0.8745 - val_loss: 0.1718 - val_accuracy: 0.8667\n",
      "Epoch 34/100\n",
      "4/4 [==============================] - 0s 26ms/step - loss: 0.2065 - accuracy: 0.8703 - val_loss: 0.1610 - val_accuracy: 0.8833\n",
      "Epoch 35/100\n",
      "4/4 [==============================] - 0s 27ms/step - loss: 0.2084 - accuracy: 0.8285 - val_loss: 0.1614 - val_accuracy: 0.8833\n",
      "Epoch 36/100\n",
      "4/4 [==============================] - 0s 32ms/step - loss: 0.2048 - accuracy: 0.8870 - val_loss: 0.1620 - val_accuracy: 0.8333\n",
      "Epoch 37/100\n",
      "4/4 [==============================] - 0s 26ms/step - loss: 0.1999 - accuracy: 0.8703 - val_loss: 0.1592 - val_accuracy: 0.8833\n",
      "Epoch 38/100\n",
      "4/4 [==============================] - 0s 28ms/step - loss: 0.2118 - accuracy: 0.8285 - val_loss: 0.1544 - val_accuracy: 0.8833\n",
      "Epoch 39/100\n",
      "4/4 [==============================] - 0s 29ms/step - loss: 0.2050 - accuracy: 0.8452 - val_loss: 0.1511 - val_accuracy: 0.8833\n",
      "Epoch 40/100\n",
      "4/4 [==============================] - 0s 27ms/step - loss: 0.2079 - accuracy: 0.8326 - val_loss: 0.1569 - val_accuracy: 0.8500\n",
      "Epoch 41/100\n",
      "4/4 [==============================] - 0s 26ms/step - loss: 0.1993 - accuracy: 0.8619 - val_loss: 0.1582 - val_accuracy: 0.8500\n",
      "Epoch 42/100\n",
      "4/4 [==============================] - 0s 29ms/step - loss: 0.1916 - accuracy: 0.8703 - val_loss: 0.1532 - val_accuracy: 0.8667\n",
      "Epoch 43/100\n",
      "4/4 [==============================] - 0s 28ms/step - loss: 0.1942 - accuracy: 0.8787 - val_loss: 0.1530 - val_accuracy: 0.8667\n",
      "Epoch 44/100\n",
      "4/4 [==============================] - 0s 29ms/step - loss: 0.1921 - accuracy: 0.8494 - val_loss: 0.1551 - val_accuracy: 0.8833\n",
      "Epoch 45/100\n",
      "4/4 [==============================] - 0s 31ms/step - loss: 0.1967 - accuracy: 0.8368 - val_loss: 0.1548 - val_accuracy: 0.8667\n",
      "Epoch 46/100\n",
      "4/4 [==============================] - 0s 28ms/step - loss: 0.2070 - accuracy: 0.8619 - val_loss: 0.1720 - val_accuracy: 0.8500\n",
      "Epoch 47/100\n",
      "4/4 [==============================] - 0s 26ms/step - loss: 0.1785 - accuracy: 0.8870 - val_loss: 0.1749 - val_accuracy: 0.8500\n",
      "Epoch 48/100\n",
      "4/4 [==============================] - 0s 32ms/step - loss: 0.1929 - accuracy: 0.8661 - val_loss: 0.1684 - val_accuracy: 0.8500\n",
      "Epoch 49/100\n",
      "4/4 [==============================] - 0s 23ms/step - loss: 0.1886 - accuracy: 0.8452 - val_loss: 0.1685 - val_accuracy: 0.8500\n",
      "Epoch 50/100\n",
      "4/4 [==============================] - 0s 26ms/step - loss: 0.1818 - accuracy: 0.8828 - val_loss: 0.1688 - val_accuracy: 0.8500\n",
      "Epoch 51/100\n",
      "4/4 [==============================] - 0s 28ms/step - loss: 0.1925 - accuracy: 0.8828 - val_loss: 0.1634 - val_accuracy: 0.8333\n",
      "Epoch 52/100\n",
      "4/4 [==============================] - 0s 31ms/step - loss: 0.1820 - accuracy: 0.8870 - val_loss: 0.1619 - val_accuracy: 0.8500\n",
      "Epoch 53/100\n",
      "4/4 [==============================] - 0s 24ms/step - loss: 0.1852 - accuracy: 0.8536 - val_loss: 0.1625 - val_accuracy: 0.8667\n",
      "Epoch 54/100\n",
      "4/4 [==============================] - 0s 25ms/step - loss: 0.1854 - accuracy: 0.8703 - val_loss: 0.1591 - val_accuracy: 0.8500\n",
      "Epoch 55/100\n",
      "4/4 [==============================] - 0s 27ms/step - loss: 0.1708 - accuracy: 0.8954 - val_loss: 0.1584 - val_accuracy: 0.8500\n",
      "Epoch 56/100\n",
      "4/4 [==============================] - 0s 27ms/step - loss: 0.1765 - accuracy: 0.8954 - val_loss: 0.1654 - val_accuracy: 0.8500\n",
      "Epoch 57/100\n",
      "4/4 [==============================] - 0s 30ms/step - loss: 0.1761 - accuracy: 0.8870 - val_loss: 0.1727 - val_accuracy: 0.8667\n",
      "Epoch 58/100\n",
      "4/4 [==============================] - 0s 29ms/step - loss: 0.1691 - accuracy: 0.8828 - val_loss: 0.1744 - val_accuracy: 0.8667\n",
      "Epoch 59/100\n",
      "4/4 [==============================] - 0s 29ms/step - loss: 0.1657 - accuracy: 0.8870 - val_loss: 0.1758 - val_accuracy: 0.8500\n",
      "Epoch 60/100\n",
      "4/4 [==============================] - 0s 25ms/step - loss: 0.1728 - accuracy: 0.9038 - val_loss: 0.1742 - val_accuracy: 0.8167\n",
      "Epoch 61/100\n",
      "4/4 [==============================] - 0s 27ms/step - loss: 0.1656 - accuracy: 0.9079 - val_loss: 0.1690 - val_accuracy: 0.8333\n",
      "Epoch 62/100\n",
      "4/4 [==============================] - 0s 27ms/step - loss: 0.1784 - accuracy: 0.8661 - val_loss: 0.1725 - val_accuracy: 0.8167\n",
      "Epoch 63/100\n",
      "4/4 [==============================] - 0s 28ms/step - loss: 0.1740 - accuracy: 0.8494 - val_loss: 0.1821 - val_accuracy: 0.8500\n",
      "Epoch 64/100\n",
      "4/4 [==============================] - 0s 31ms/step - loss: 0.1732 - accuracy: 0.8536 - val_loss: 0.1751 - val_accuracy: 0.8167\n",
      "Epoch 65/100\n",
      "4/4 [==============================] - 0s 29ms/step - loss: 0.1607 - accuracy: 0.8954 - val_loss: 0.1788 - val_accuracy: 0.8500\n",
      "Epoch 66/100\n",
      "4/4 [==============================] - 0s 26ms/step - loss: 0.1746 - accuracy: 0.9247 - val_loss: 0.1759 - val_accuracy: 0.8500\n",
      "Epoch 67/100\n",
      "4/4 [==============================] - 0s 27ms/step - loss: 0.1637 - accuracy: 0.8912 - val_loss: 0.1732 - val_accuracy: 0.8167\n",
      "Epoch 68/100\n",
      "4/4 [==============================] - 0s 30ms/step - loss: 0.1497 - accuracy: 0.9079 - val_loss: 0.1732 - val_accuracy: 0.8333\n",
      "Epoch 69/100\n",
      "4/4 [==============================] - 0s 28ms/step - loss: 0.1599 - accuracy: 0.8912 - val_loss: 0.1661 - val_accuracy: 0.8500\n",
      "Epoch 70/100\n",
      "4/4 [==============================] - 0s 28ms/step - loss: 0.1474 - accuracy: 0.9079 - val_loss: 0.1659 - val_accuracy: 0.8667\n",
      "Epoch 71/100\n",
      "4/4 [==============================] - 0s 31ms/step - loss: 0.1529 - accuracy: 0.8954 - val_loss: 0.1661 - val_accuracy: 0.8667\n",
      "Epoch 72/100\n",
      "4/4 [==============================] - 0s 29ms/step - loss: 0.1453 - accuracy: 0.9079 - val_loss: 0.1719 - val_accuracy: 0.8500\n",
      "Epoch 73/100\n",
      "4/4 [==============================] - 0s 30ms/step - loss: 0.1478 - accuracy: 0.8954 - val_loss: 0.1787 - val_accuracy: 0.8333\n",
      "Epoch 74/100\n",
      "4/4 [==============================] - 0s 30ms/step - loss: 0.1440 - accuracy: 0.9121 - val_loss: 0.1804 - val_accuracy: 0.8333\n",
      "Epoch 75/100\n",
      "4/4 [==============================] - 0s 45ms/step - loss: 0.1532 - accuracy: 0.9121 - val_loss: 0.1731 - val_accuracy: 0.8333\n",
      "Epoch 76/100\n",
      "4/4 [==============================] - 0s 36ms/step - loss: 0.1475 - accuracy: 0.9247 - val_loss: 0.1756 - val_accuracy: 0.8333\n",
      "Epoch 77/100\n",
      "4/4 [==============================] - 0s 46ms/step - loss: 0.1483 - accuracy: 0.8954 - val_loss: 0.1813 - val_accuracy: 0.8333\n",
      "Epoch 78/100\n",
      "4/4 [==============================] - 0s 61ms/step - loss: 0.1438 - accuracy: 0.9163 - val_loss: 0.1775 - val_accuracy: 0.8500\n",
      "Epoch 79/100\n",
      "4/4 [==============================] - 0s 63ms/step - loss: 0.1325 - accuracy: 0.9163 - val_loss: 0.1755 - val_accuracy: 0.8500\n",
      "Epoch 80/100\n",
      "4/4 [==============================] - 0s 69ms/step - loss: 0.1492 - accuracy: 0.9121 - val_loss: 0.1763 - val_accuracy: 0.8500\n",
      "Epoch 81/100\n",
      "4/4 [==============================] - 0s 65ms/step - loss: 0.1355 - accuracy: 0.9038 - val_loss: 0.1708 - val_accuracy: 0.8500\n",
      "Epoch 82/100\n",
      "4/4 [==============================] - 0s 65ms/step - loss: 0.1290 - accuracy: 0.9372 - val_loss: 0.1723 - val_accuracy: 0.8667\n",
      "Epoch 83/100\n",
      "4/4 [==============================] - 0s 80ms/step - loss: 0.1353 - accuracy: 0.9121 - val_loss: 0.1787 - val_accuracy: 0.8333\n",
      "Epoch 84/100\n",
      "4/4 [==============================] - 0s 74ms/step - loss: 0.1450 - accuracy: 0.9079 - val_loss: 0.1751 - val_accuracy: 0.8333\n",
      "Epoch 85/100\n",
      "4/4 [==============================] - 0s 78ms/step - loss: 0.1341 - accuracy: 0.9331 - val_loss: 0.1656 - val_accuracy: 0.8500\n",
      "Epoch 86/100\n",
      "4/4 [==============================] - 0s 74ms/step - loss: 0.1311 - accuracy: 0.9163 - val_loss: 0.1675 - val_accuracy: 0.8500\n",
      "Epoch 87/100\n",
      "4/4 [==============================] - 0s 80ms/step - loss: 0.1355 - accuracy: 0.9247 - val_loss: 0.1735 - val_accuracy: 0.8667\n",
      "Epoch 88/100\n",
      "4/4 [==============================] - 0s 90ms/step - loss: 0.1374 - accuracy: 0.9163 - val_loss: 0.1717 - val_accuracy: 0.8667\n",
      "Epoch 89/100\n",
      "4/4 [==============================] - 0s 80ms/step - loss: 0.1202 - accuracy: 0.9289 - val_loss: 0.1699 - val_accuracy: 0.8500\n",
      "Epoch 90/100\n",
      "4/4 [==============================] - 0s 60ms/step - loss: 0.1180 - accuracy: 0.9289 - val_loss: 0.1663 - val_accuracy: 0.8500\n",
      "Epoch 91/100\n",
      "4/4 [==============================] - 0s 76ms/step - loss: 0.1239 - accuracy: 0.9372 - val_loss: 0.1704 - val_accuracy: 0.8500\n",
      "Epoch 92/100\n",
      "4/4 [==============================] - 0s 69ms/step - loss: 0.1265 - accuracy: 0.9205 - val_loss: 0.1733 - val_accuracy: 0.8500\n",
      "Epoch 93/100\n",
      "4/4 [==============================] - 0s 69ms/step - loss: 0.1169 - accuracy: 0.9414 - val_loss: 0.1703 - val_accuracy: 0.8500\n",
      "Epoch 94/100\n",
      "4/4 [==============================] - 0s 74ms/step - loss: 0.1257 - accuracy: 0.9331 - val_loss: 0.1697 - val_accuracy: 0.8500\n",
      "Epoch 95/100\n",
      "4/4 [==============================] - 0s 59ms/step - loss: 0.1225 - accuracy: 0.9414 - val_loss: 0.1744 - val_accuracy: 0.8333\n",
      "Epoch 96/100\n",
      "4/4 [==============================] - 0s 57ms/step - loss: 0.1241 - accuracy: 0.9331 - val_loss: 0.1772 - val_accuracy: 0.8500\n",
      "Epoch 97/100\n",
      "4/4 [==============================] - 0s 61ms/step - loss: 0.1240 - accuracy: 0.9372 - val_loss: 0.1665 - val_accuracy: 0.8500\n",
      "Epoch 98/100\n",
      "4/4 [==============================] - 0s 62ms/step - loss: 0.1209 - accuracy: 0.9331 - val_loss: 0.1649 - val_accuracy: 0.8500\n",
      "Epoch 99/100\n",
      "4/4 [==============================] - 0s 60ms/step - loss: 0.1185 - accuracy: 0.9372 - val_loss: 0.1656 - val_accuracy: 0.8500\n",
      "Epoch 100/100\n",
      "4/4 [==============================] - 0s 62ms/step - loss: 0.1209 - accuracy: 0.9163 - val_loss: 0.1648 - val_accuracy: 0.8500\n"
     ]
    },
    {
     "data": {
      "image/png": "[encoded data removed]",
      "text/plain": [
       "<Figure size 432x288 with 1 Axes>"
      ]
     },
     "metadata": {
      "needs_background": "light"
     },
     "output_type": "display_data"
    },
    {
     "data": {
      "image/png": "[encoded data removed]",
      "text/plain": [
       "<Figure size 432x288 with 1 Axes>"
      ]
     },
     "metadata": {
      "needs_background": "light"
     },
     "output_type": "display_data"
    }
   ],
   "source": [
    "#Defining Model\n",
    "model_tf = keras.Sequential([\n",
    "    layers.Dense(512, activation='relu', input_shape=[11]), # NN layer\n",
    "    layers.Dropout(rate=0.3), #Dropout Layer\n",
    "    layers.Dense(512, activation='relu'), # NN layer\n",
    "    layers.Dropout(rate=0.5), #Dropout Layer\n",
    "    layers.Dense(512, activation='relu'), # NN layer\n",
    "    layers.Dropout(rate=0.3), #Dropout Layer\n",
    "    layers.Dense(128, activation='relu'), # NN layer\n",
    "    layers.Dense(128, activation='relu'), # NN layer\n",
    "\n",
    "    layers.Dense(1),\n",
    "])\n",
    "# Compiling the model for the following optimizer, loss function, and metrics.\n",
    "optimizer = keras.optimizers.Adam(learning_rate=0.0005)\n",
    "model_tf.compile(\n",
    "    optimizer=optimizer,\n",
    "    loss='mae',\n",
    "    metrics=[\"accuracy\"]\n",
    ")\n",
    "\n",
    "#Fitting the model\n",
    "history = model_tf.fit(\n",
    "    XS_train, yS_train, #Using Standard Scalar Data\n",
    "    validation_data=(XS_test, yS_test), #Using Standard Scalar Data\n",
    "    batch_size=75,\n",
    "    epochs=100,\n",
    ")\n",
    "\n",
    "#Creating graphs to visualize the loss and accuracy values to check for under-fitting and over-fitting \n",
    "history_df = pd.DataFrame(history.history)\n",
    "history_df.loc[:, ['loss', 'val_loss']].plot();\n",
    "history_df.loc[:, ['accuracy', 'val_accuracy']].plot();"
   ]
  },
  {
   "cell_type": "code",
   "execution_count": null,
   "metadata": {},
   "outputs": [],
   "source": []
  }
 ],
 "metadata": {
  "colab": {
   "collapsed_sections": [],
   "name": "Untitled1.ipynb",
   "provenance": []
  },
  "kernelspec": {
   "display_name": "Python 3 (ipykernel)",
   "language": "python",
   "name": "python3"
  },
  "language_info": {
   "codemirror_mode": {
    "name": "ipython",
    "version": 3
   },
   "file_extension": ".py",
   "mimetype": "text/x-python",
   "name": "python",
   "nbconvert_exporter": "python",
   "pygments_lexer": "ipython3",
   "version": "3.8.5"
  }
 },
 "nbformat": 4,
 "nbformat_minor": 4
}
